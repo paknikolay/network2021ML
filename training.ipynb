{
 "cells": [
  {
   "cell_type": "code",
   "execution_count": null,
   "metadata": {
    "id": "O7GBNHjenm60"
   },
   "outputs": [],
   "source": [
    "! pip install pydrive"
   ]
  },
  {
   "cell_type": "code",
   "execution_count": null,
   "metadata": {
    "id": "OtVBxWaRojyl"
   },
   "outputs": [],
   "source": [
    "import os"
   ]
  },
  {
   "cell_type": "code",
   "execution_count": null,
   "metadata": {
    "id": "atk0cxoNokpO"
   },
   "outputs": [],
   "source": [
    "from google.colab import drive\n",
    "drive.mount('/content/drive')"
   ]
  },
  {
   "cell_type": "code",
   "execution_count": null,
   "metadata": {
    "id": "iDd83EgYuaE_"
   },
   "outputs": [],
   "source": [
    "#папка с даннымы\n",
    "datasetFolder = ..."
   ]
  },
  {
   "cell_type": "code",
   "execution_count": null,
   "metadata": {
    "id": "zERK7InhbLfZ"
   },
   "outputs": [],
   "source": [
    "#папка для логов и сохранением моделей\n",
    "folderToDump = ...\n",
    "try:\n",
    "  os.mkdir(folderToDump)\n",
    "except:\n",
    "  pass"
   ]
  },
  {
   "cell_type": "code",
   "execution_count": null,
   "metadata": {
    "id": "DrruhZ5KVgbY"
   },
   "outputs": [],
   "source": [
    "os.listdir(datasetFolder)"
   ]
  },
  {
   "cell_type": "code",
   "execution_count": null,
   "metadata": {
    "id": "N_KNb7BkzGUt"
   },
   "outputs": [],
   "source": [
    "import torchvision.datasets as dset\n",
    "import torchvision.models as models\n",
    "import torchvision.transforms as transforms\n",
    "import torch\n",
    "import torch.nn as nn\n",
    "import torch.nn.functional as F\n",
    "import matplotlib.pyplot as plt\n",
    "from IPython import display\n",
    "import numpy as np\n",
    "from tqdm import tqdm_notebook as tn\n",
    "import json"
   ]
  },
  {
   "cell_type": "code",
   "execution_count": null,
   "metadata": {
    "id": "VsfivgOZuFIB"
   },
   "outputs": [],
   "source": [
    "from torchvision.datasets import ImageFolder\n",
    "from PIL import Image, ImageFile\n",
    "ImageFile.LOAD_TRUNCATED_IMAGES = True\n",
    "\n",
    "!pip install pyheif\n",
    "import pyheif"
   ]
  },
  {
   "cell_type": "code",
   "execution_count": null,
   "metadata": {
    "id": "cMcOTUaWeBtJ"
   },
   "outputs": [],
   "source": [
    "import random\n",
    "import numpy as np\n",
    "import torch.backends.cudnn as cudnn\n",
    "\n",
    "#подготовка к обучению для воспроизводимости\n",
    "def set_random_seed(seed=42):\n",
    "    torch.manual_seed(seed)\n",
    "    torch.cuda.manual_seed_all(seed)\n",
    "    \n",
    "    random.seed(seed)\n",
    "    np.random.seed(seed)\n",
    "    \n",
    "def prepare_cudnn(deterministic=True, benchmark=False):\n",
    "    if torch.cuda.is_available():\n",
    "        # CuDNN reproducibility\n",
    "        # https://pytorch.org/docs/stable/notes/randomness.html#cudnn\n",
    "        cudnn.deterministic = deterministic\n",
    "\n",
    "        # https://discuss.pytorch.org/t/how-should-i-disable-using-cudnn-in-my-code/38053/4\n",
    "        cudnn.benchmark = benchmark\n",
    "        \n",
    "def set_deterministic_behaviour(seed=42):\n",
    "    set_random_seed(seed)\n",
    "    prepare_cudnn(deterministic=True, benchmark=False)"
   ]
  },
  {
   "cell_type": "code",
   "execution_count": null,
   "metadata": {
    "id": "fhhE_P7UeBmB"
   },
   "outputs": [],
   "source": [
    "#проверка валидности картинки\n",
    "def is_valid_file(pathToImage):\n",
    "  try:\n",
    "    pilImage = Image.open(pathToImage)\n",
    "    return True\n",
    "  except:\n",
    "   pass\n",
    "  try:\n",
    "    imRaw = pyheif.read(pathToImage)\n",
    "    return True\n",
    "  except:\n",
    "    return False"
   ]
  },
  {
   "cell_type": "code",
   "execution_count": null,
   "metadata": {
    "id": "zWFI0yG4DIA1"
   },
   "outputs": [],
   "source": [
    "#загрузка картинки\n",
    "def load_image(pathToImage):\n",
    "  try:\n",
    "    pilImage = Image.open(pathToImage)\n",
    "    pilImage = pilImage.convert('RGB')\n",
    "    return pilImage\n",
    "  except:\n",
    "    imRaw = pyheif.read(pathToImage)\n",
    "    pilImage = Image.frombytes(mode=imRaw.mode, size=imRaw.size, data=imRaw.data)\n",
    "    pilImage = pilImage.convert('RGB')\n",
    "    return pilImage"
   ]
  },
  {
   "cell_type": "code",
   "execution_count": null,
   "metadata": {
    "id": "7sZe3MwpuVnA"
   },
   "outputs": [],
   "source": [
    "#создание датасета с картинками\n",
    "dataset = ImageFolder(datasetFolder, transform=transforms.Compose([\n",
    "                                              transforms.Resize((256,256)),\n",
    "                                               transforms.RandomHorizontalFlip(),\n",
    "                                               transforms.ToTensor(),\n",
    "                                               transforms.Normalize(mean=[0.485, 0.456, 0.406],\n",
    "                                                  std=[0.229, 0.224, 0.225]),\n",
    "                                               ] ), loader=load_image,\n",
    "                      )"
   ]
  },
  {
   "cell_type": "code",
   "execution_count": null,
   "metadata": {
    "id": "TA5FzaNQm1vN"
   },
   "outputs": [],
   "source": [
    "#установка разбиения выборки"
   ]
  },
  {
   "cell_type": "code",
   "execution_count": null,
   "metadata": {
    "id": "0-0iaIX6yiW_"
   },
   "outputs": [],
   "source": [
    "train_size = int(len(dataset) * 0.6)\n",
    "validation_size = int(len(dataset) * 0.2)\n",
    "test_size = len(dataset) - train_size - validation_size"
   ]
  },
  {
   "cell_type": "code",
   "execution_count": null,
   "metadata": {
    "id": "2HILesWlgy-R"
   },
   "outputs": [],
   "source": [
    "set_deterministic_behaviour()"
   ]
  },
  {
   "cell_type": "code",
   "execution_count": null,
   "metadata": {
    "id": "gwXX8JebxGSw"
   },
   "outputs": [],
   "source": [
    "#создание разбиений датасета\n",
    "train_dataset, validation_dataset, test_dataset = torch.utils.data.random_split(dataset, (train_size, validation_size, test_size), )"
   ]
  },
  {
   "cell_type": "code",
   "execution_count": null,
   "metadata": {
    "id": "JnxH5qUypjUp"
   },
   "outputs": [],
   "source": [
    "batch_size = 8\n",
    "set_deterministic_behaviour()\n",
    "data_loader_test = torch.utils.data.DataLoader(test_dataset,\n",
    "                                          batch_size=batch_size,\n",
    "                                          shuffle=True)\n",
    "set_deterministic_behaviour()\n",
    "data_loader_train = torch.utils.data.DataLoader(train_dataset,\n",
    "                                          batch_size=batch_size,\n",
    "                                          shuffle=True)\n",
    "set_deterministic_behaviour()\n",
    "data_loader_validation = torch.utils.data.DataLoader(validation_dataset,\n",
    "                                          batch_size=batch_size,\n",
    "                                          shuffle=True)"
   ]
  },
  {
   "cell_type": "code",
   "execution_count": null,
   "metadata": {
    "id": "UcBW6UWz14H0"
   },
   "outputs": [],
   "source": []
  },
  {
   "cell_type": "code",
   "execution_count": null,
   "metadata": {
    "id": "FxkFlhVW14LX"
   },
   "outputs": [],
   "source": [
    "import torchvision.models as models"
   ]
  },
  {
   "cell_type": "code",
   "execution_count": null,
   "metadata": {
    "id": "L7sGb7k33-KT"
   },
   "outputs": [],
   "source": [
    "#определение самой модели\n",
    "model = nn.Sequential( *list(models.resnet50(pretrained=True).children())[:-1],\\\n",
    "                      nn.Flatten(1),\n",
    "                      nn.Linear(in_features=2048, out_features=len(dataset.classes), bias=True)\n",
    "                     )\n"
   ]
  },
  {
   "cell_type": "code",
   "execution_count": null,
   "metadata": {
    "id": "5joe4SjUzBzP"
   },
   "outputs": [],
   "source": [
    "#настройки параметров обучения\n",
    "lr = 0.0001\n",
    "optimizer = torch.optim.Adam(model.parameters(), lr)"
   ]
  },
  {
   "cell_type": "code",
   "execution_count": null,
   "metadata": {
    "id": "MDK-TINZ4pep"
   },
   "outputs": [],
   "source": [
    "epoch_num = 15"
   ]
  },
  {
   "cell_type": "code",
   "execution_count": null,
   "metadata": {
    "id": "wbHNmIUB44i9"
   },
   "outputs": [],
   "source": [
    "loss_function = nn.CrossEntropyLoss()"
   ]
  },
  {
   "cell_type": "code",
   "execution_count": null,
   "metadata": {
    "id": "lDmF3MuIpjYS"
   },
   "outputs": [],
   "source": [
    "#функция для обучения с переданными параметрами\n",
    "def train(train_dataloader, test_dataloader, net, optimizer, loss_func, epoch_num, w_decay=0):\n",
    "    set_deterministic_behaviour()\n",
    "    net.cuda()\n",
    "\n",
    "    lr = 0.0001\n",
    "    test_losses = []\n",
    "    train_losses = []\n",
    "    test_acces = []\n",
    "    for epoch in range(epoch_num):\n",
    "        if epoch in [0, 7, 11]:\n",
    "        # if epoch in [0, 35, 80]:\n",
    "            lr = lr / 10\n",
    "            optimizer = torch.optim.Adam(net.parameters(), weight_decay=w_decay, lr=lr)\n",
    "\n",
    "        net.train()\n",
    "        train_loss = []\n",
    "        progress = tn(train_dataloader)\n",
    "        for x, y in progress:\n",
    "            x = x.cuda()\n",
    "            y = y.cuda()\n",
    "            optimizer.zero_grad()\n",
    "            \n",
    "            out = net(x)        \n",
    "  \n",
    "            loss = loss_func(out, y)\n",
    "            \n",
    "            loss.backward()\n",
    "            optimizer.step()\n",
    "            \n",
    "            train_loss.append(loss.item())\n",
    "            \n",
    "            progress.set_description(\"loss: %f.3\" % np.mean(train_loss) )\n",
    "            del(x)\n",
    "            del(y)\n",
    "            del(out)\n",
    "            del(loss)\n",
    "\n",
    "            \n",
    "        net.eval()\n",
    "        test_loss = []\n",
    "        test_acc = []\n",
    "        for x, y in tn(test_dataloader):\n",
    "            x = x.cuda()\n",
    "            y = y.cuda()\n",
    "            out = net(x)\n",
    "            loss = loss_func(out, y)\n",
    "            test_loss.append(loss.item())\n",
    "            test_acc.extend(list(map(int, list((torch.argmax(out, dim=1) == y).detach().cpu().numpy()))))\n",
    "            del(x)\n",
    "            del(y)\n",
    "            del(out)\n",
    "            del(loss)\n",
    "            \n",
    "        test_losses.append(np.mean(test_loss))\n",
    "        train_losses.append(np.mean(train_loss))\n",
    "        test_acces.append(torch.mean(torch.Tensor(test_acc)))\n",
    "        \n",
    "        plt.title(\"epoch:{} train loss: {}, test_loss: {},\\n\\\n",
    "                  test_acc {}\".format(epoch, train_losses[-1], test_losses[-1], test_acces[-1]))\n",
    "        display.clear_output(wait=True)\n",
    "        plt.plot(test_losses,  label=\"test\")\n",
    "        plt.plot(train_losses, label=\"train\")\n",
    "        plt.legend()\n",
    "        plt.show()\n",
    "        \n",
    "        plt.plot(test_acces,  label=\"test\")\n",
    "        plt.legend()\n",
    "        plt.show()\n",
    "        \n",
    "        torch.save(net.state_dict(), folderToDump+\"/\" + str(epoch))\n",
    "        logs = dict()\n",
    "        logs[\"trainLoss\"] = train_loss\n",
    "        logs[\"testLoss\"] = test_loss\n",
    "        logs[\"testAcc\"] = test_acc\n",
    "        \n",
    "        with open( folderToDump + \"/log\" + str(epoch) + \".txt\", \"w\" ) as f:\n",
    "          json.dump(logs, f)"
   ]
  },
  {
   "cell_type": "code",
   "execution_count": null,
   "metadata": {
    "id": "f53A6y9LpjcP"
   },
   "outputs": [],
   "source": [
    "#запуск обучения\n",
    "train(data_loader_train, data_loader_validation, model, optimizer, loss_function, epoch_num )"
   ]
  },
  {
   "cell_type": "code",
   "execution_count": null,
   "metadata": {
    "id": "feuLQqp9Nh4t"
   },
   "outputs": [],
   "source": [
    "\n",
    "accs = []\n",
    "for i in range(12):\n",
    "  with open(folderToDump + \"/log\" + str(i) + \".txt\") as f:\n",
    "    accs.append(np.mean(json.load(f)[\"testAcc\"]))"
   ]
  },
  {
   "cell_type": "code",
   "execution_count": null,
   "metadata": {
    "id": "_M5bt_5QNkPa"
   },
   "outputs": [],
   "source": [
    "plt.plot(accs)\n",
    "plt.scatter(np.argmax(accs), np.max(accs))\n",
    "print(np.argmax(accs))"
   ]
  },
  {
   "cell_type": "code",
   "execution_count": null,
   "metadata": {
    "id": "79IY7Ot6NsCm"
   },
   "outputs": [],
   "source": [
    "def test(test_dataloader, net, pathToNet):\n",
    "    set_deterministic_behaviour()\n",
    "    with open(pathToNet) as f:\n",
    "      net.load_state_dict(torch.load(pathToNet))\n",
    "    net.cuda()\n",
    "\n",
    " \n",
    "    net.eval()\n",
    "    test_loss = []\n",
    "    test_acc = []\n",
    "    for x, y in tn(test_dataloader):\n",
    "        x = x.cuda()\n",
    "        y = y.cuda()\n",
    "        out = net(x)\n",
    "        predictions = torch.argmax(out, dim=1)\n",
    "        trueValues = list(map(int, list((predictions == y).detach().cpu().numpy())))\n",
    "        test_acc.extend(trueValues)\n",
    "        \n",
    "        for i, value in enumerate(trueValues):\n",
    "          if value == 0:\n",
    "            \n",
    "            print(\"pred: \" + dataset.classes[predictions[i].item()])\n",
    "            print(\"gt: \" + dataset.classes[y[i].item()])\n",
    "            plt.figure(figsize=(8,8))\n",
    "            plt.imshow(x[i].cpu().numpy().transpose(1,2,0))\n",
    "            plt.show()\n",
    "            \n",
    "    test_acc = torch.mean(torch.Tensor(test_acc))\n",
    "    \n",
    "\n",
    "    print(test_acc)\n"
   ]
  },
  {
   "cell_type": "code",
   "execution_count": null,
   "metadata": {
    "id": "Ly31ud15OWJr"
   },
   "outputs": [],
   "source": [
    "models = ...\n",
    "test(data_loader_test, model, pathToModel...)"
   ]
  },
  {
   "cell_type": "code",
   "execution_count": null,
   "metadata": {
    "id": "kOX4-9dOof-O"
   },
   "outputs": [],
   "source": []
  }
 ],
 "metadata": {
  "accelerator": "GPU",
  "colab": {
   "collapsed_sections": [],
   "name": "Cars.ipynb",
   "private_outputs": true,
   "provenance": []
  },
  "kernelspec": {
   "display_name": "Python 3",
   "language": "python",
   "name": "python3"
  },
  "language_info": {
   "codemirror_mode": {
    "name": "ipython",
    "version": 3
   },
   "file_extension": ".py",
   "mimetype": "text/x-python",
   "name": "python",
   "nbconvert_exporter": "python",
   "pygments_lexer": "ipython3",
   "version": "3.7.3"
  }
 },
 "nbformat": 4,
 "nbformat_minor": 1
}
